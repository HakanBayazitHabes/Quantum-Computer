{
 "cells": [
  {
   "cell_type": "code",
   "execution_count": 32,
   "metadata": {},
   "outputs": [],
   "source": [
    "from qiskit import *\n",
    "from qiskit_ibm_runtime import QiskitRuntimeService\n"
   ]
  },
  {
   "cell_type": "code",
   "execution_count": 33,
   "metadata": {},
   "outputs": [],
   "source": [
    "# API anahtarınızı bir dosyadan okuma\n",
    "with open(\"/Users/hakanbayazithabes/Desktop/Software/Quantum_Computer/ibmapi.txt\", \"r\") as token_file:\n",
    "    api_token = token_file.read().strip()\n",
    "    \n",
    "services = QiskitRuntimeService(channel='ibm_quantum', token=api_token)\n",
    "\n",
    "# IBM Quantum hesabınızı kaydetme\n",
    "QiskitRuntimeService.save_account(channel='ibm_quantum' ,token=api_token, overwrite=True)\n",
    "\n",
    "backend = services.backend(name=\"ibm_brisbane\")\n",
    "\n"
   ]
  },
  {
   "cell_type": "code",
   "execution_count": 38,
   "metadata": {},
   "outputs": [
    {
     "name": "stdout",
     "output_type": "stream",
     "text": [
      "Backend name: ibm_brisbane, Qubit count: 127, Quantum volume: None\n",
      "Backend name: ibm_kyiv, Qubit count: 127, Quantum volume: None\n",
      "Backend name: ibm_sherbrooke, Qubit count: 127, Quantum volume: 32\n"
     ]
    }
   ],
   "source": [
    "# Mevcut tüm kuantum bilgisayarlarını (backend'leri) al\n",
    "backends = services.backends()\n",
    "\n",
    "# Her bir backend ve qubit sayısını yazdır\n",
    "for backend in backends:\n",
    "    print(f\"Backend name: {backend.name}, Qubit count: {backend.num_qubits}, Quantum volume: {backend.configuration().quantum_volume}\")\n",
    "\n"
   ]
  }
 ],
 "metadata": {
  "kernelspec": {
   "display_name": "Python 3",
   "language": "python",
   "name": "python3"
  },
  "language_info": {
   "codemirror_mode": {
    "name": "ipython",
    "version": 3
   },
   "file_extension": ".py",
   "mimetype": "text/x-python",
   "name": "python",
   "nbconvert_exporter": "python",
   "pygments_lexer": "ipython3",
   "version": "3.9.7"
  }
 },
 "nbformat": 4,
 "nbformat_minor": 2
}
